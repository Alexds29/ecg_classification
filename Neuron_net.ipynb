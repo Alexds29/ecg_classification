{
 "cells": [
  {
   "cell_type": "code",
   "execution_count": 20,
   "id": "f146bbec",
   "metadata": {},
   "outputs": [],
   "source": [
    "import pandas as pd\n",
    "from sklearn.model_selection import train_test_split\n",
    "from tensorflow.keras import models\n",
    "from tensorflow.keras import layers\n",
    "from tensorflow import keras\n",
    "from tensorflow.keras import regularizers\n",
    "from sklearn.preprocessing import StandardScaler\n",
    "import matplotlib.pyplot as plt\n",
    "import numpy as np\n",
    "from sklearn.metrics import confusion_matrix, f1_score"
   ]
  },
  {
   "cell_type": "code",
   "execution_count": 8,
   "id": "00008dc4",
   "metadata": {},
   "outputs": [],
   "source": [
    "# Рисовалка кривых обучения\n",
    "\n",
    "def draw_curves (history, los, metric):\n",
    "    \n",
    "    acc = history.history[metric]\n",
    "    val_acc = history.history['val_'+metric]\n",
    "    loss = history.history[los]\n",
    "    val_loss = history.history['val_'+los]\n",
    "\n",
    "    epochs = range(1, len(acc)+1)\n",
    "    plt.plot(epochs, acc, 'bo', label = 'Training '+metric)\n",
    "    plt.plot(epochs, val_acc, 'b', label = 'Validation '+metric)\n",
    "    plt.title('Training and Validation '+metric)\n",
    "    plt.legend()\n",
    "\n",
    "    plt.figure()\n",
    "\n",
    "    plt.plot(epochs, loss, 'bo', label = 'Training loss')\n",
    "    plt.plot(epochs, val_loss, 'b', label = 'Validation loss')\n",
    "    plt.title('Training and Validation loss')\n",
    "    plt.legend()\n",
    "\n",
    "    plt.show()"
   ]
  },
  {
   "cell_type": "markdown",
   "id": "6a574186",
   "metadata": {},
   "source": [
    "## Нейросеть"
   ]
  },
  {
   "cell_type": "code",
   "execution_count": 9,
   "id": "4800e066",
   "metadata": {},
   "outputs": [],
   "source": [
    "X = pd.read_csv('X.csv', index_col = 'Unnamed: 0')\n",
    "Y = pd.read_csv('Y.csv', index_col = 'Unnamed: 0')\n",
    "\n",
    "X_train, X_test, Y_train, Y_test = train_test_split(X, Y, test_size = 0.2, random_state = 42, stratify = Y)"
   ]
  },
  {
   "cell_type": "code",
   "execution_count": 10,
   "id": "8370dddc",
   "metadata": {},
   "outputs": [],
   "source": [
    "sc = StandardScaler()\n",
    "\n",
    "X_t_train = sc.fit_transform(X_train)\n",
    "X_t_test = sc.transform(X_test)"
   ]
  },
  {
   "cell_type": "code",
   "execution_count": 11,
   "id": "0f328a4f",
   "metadata": {},
   "outputs": [],
   "source": [
    "#  Структура модели\n",
    "model = models.Sequential()\n",
    "\n",
    "model.add(layers.Dense(16, activation=\"relu\", input_shape = (X_t_train.shape[1],)))\n",
    "#model.add(layers.Dropout(0.05))\n",
    "model.add(layers.Dense(16, activation=\"relu\"))#, input_shape = (X_t_train.shape[1],)))\n",
    "#model.add(layers.Dropout(0.05))\n",
    "model.add(layers.Dense(16, activation=\"relu\")) #input_shape = (X_t_train.shape[1],)))\n",
    "#model.add(layers.Dropout(0.05))\n",
    "#model.add(GlobalAveragePooling1D())\n",
    "model.add(layers.Dense(8, activation=\"softmax\", kernel_regularizer = regularizers.l2(0.001)))#, input_shape = (X_t_train.shape[1],), #kernel_regularizer = regularizers.l1(0.1)\n",
    "                       ##))"
   ]
  },
  {
   "cell_type": "code",
   "execution_count": 12,
   "id": "b6f5f506",
   "metadata": {},
   "outputs": [],
   "source": [
    "# Компиляция модели\n",
    "model.compile(optimizer=keras.optimizers.Adam(learning_rate=0.001),\n",
    "              loss=\"sparse_categorical_crossentropy\",\n",
    "              metrics=[\"accuracy\"])"
   ]
  },
  {
   "cell_type": "code",
   "execution_count": 13,
   "id": "b19fff74",
   "metadata": {},
   "outputs": [
    {
     "data": {
      "text/plain": [
       "((8492, 13), (8492, 1))"
      ]
     },
     "execution_count": 13,
     "metadata": {},
     "output_type": "execute_result"
    }
   ],
   "source": [
    "X_t_train.shape, Y_train.shape"
   ]
  },
  {
   "cell_type": "code",
   "execution_count": 14,
   "id": "23e30c72",
   "metadata": {},
   "outputs": [
    {
     "name": "stdout",
     "output_type": "stream",
     "text": [
      "Epoch 1/130\n",
      "531/531 [==============================] - 4s 3ms/step - loss: 1.2647 - accuracy: 0.5612 - val_loss: 0.8921 - val_accuracy: 0.7122\n",
      "Epoch 2/130\n",
      "531/531 [==============================] - 1s 2ms/step - loss: 0.7628 - accuracy: 0.7534 - val_loss: 0.6792 - val_accuracy: 0.7767\n",
      "Epoch 3/130\n",
      "531/531 [==============================] - 1s 2ms/step - loss: 0.6496 - accuracy: 0.7818 - val_loss: 0.6223 - val_accuracy: 0.7862\n",
      "Epoch 4/130\n",
      "531/531 [==============================] - 1s 2ms/step - loss: 0.6104 - accuracy: 0.7958 - val_loss: 0.6014 - val_accuracy: 0.7979\n",
      "Epoch 5/130\n",
      "531/531 [==============================] - 1s 2ms/step - loss: 0.5907 - accuracy: 0.7995 - val_loss: 0.5876 - val_accuracy: 0.8022\n",
      "Epoch 6/130\n",
      "531/531 [==============================] - 1s 2ms/step - loss: 0.5788 - accuracy: 0.8062 - val_loss: 0.5850 - val_accuracy: 0.8064\n",
      "Epoch 7/130\n",
      "531/531 [==============================] - 1s 2ms/step - loss: 0.5740 - accuracy: 0.8075 - val_loss: 0.5694 - val_accuracy: 0.8144\n",
      "Epoch 8/130\n",
      "531/531 [==============================] - 1s 2ms/step - loss: 0.5661 - accuracy: 0.8119 - val_loss: 0.5682 - val_accuracy: 0.8069\n",
      "Epoch 9/130\n",
      "531/531 [==============================] - 1s 2ms/step - loss: 0.5629 - accuracy: 0.8135 - val_loss: 0.5742 - val_accuracy: 0.8097\n",
      "Epoch 10/130\n",
      "531/531 [==============================] - 1s 2ms/step - loss: 0.5590 - accuracy: 0.8109 - val_loss: 0.5619 - val_accuracy: 0.8125\n",
      "Epoch 11/130\n",
      "531/531 [==============================] - 1s 2ms/step - loss: 0.5551 - accuracy: 0.8132 - val_loss: 0.5811 - val_accuracy: 0.8106\n",
      "Epoch 12/130\n",
      "531/531 [==============================] - 1s 2ms/step - loss: 0.5513 - accuracy: 0.8179 - val_loss: 0.5530 - val_accuracy: 0.8172\n",
      "Epoch 13/130\n",
      "531/531 [==============================] - 1s 2ms/step - loss: 0.5480 - accuracy: 0.8167 - val_loss: 0.5619 - val_accuracy: 0.8144\n",
      "Epoch 14/130\n",
      "531/531 [==============================] - 1s 2ms/step - loss: 0.5475 - accuracy: 0.8168 - val_loss: 0.5575 - val_accuracy: 0.8111\n",
      "Epoch 15/130\n",
      "531/531 [==============================] - 1s 2ms/step - loss: 0.5436 - accuracy: 0.8171 - val_loss: 0.5577 - val_accuracy: 0.8196\n",
      "Epoch 16/130\n",
      "531/531 [==============================] - 1s 2ms/step - loss: 0.5428 - accuracy: 0.8169 - val_loss: 0.5426 - val_accuracy: 0.8163\n",
      "Epoch 17/130\n",
      "531/531 [==============================] - 1s 2ms/step - loss: 0.5381 - accuracy: 0.8207 - val_loss: 0.5485 - val_accuracy: 0.8125\n",
      "Epoch 18/130\n",
      "531/531 [==============================] - 1s 2ms/step - loss: 0.5374 - accuracy: 0.8205 - val_loss: 0.5443 - val_accuracy: 0.8210\n",
      "Epoch 19/130\n",
      "531/531 [==============================] - 1s 2ms/step - loss: 0.5353 - accuracy: 0.8204 - val_loss: 0.5440 - val_accuracy: 0.8168\n",
      "Epoch 20/130\n",
      "531/531 [==============================] - 1s 2ms/step - loss: 0.5336 - accuracy: 0.8218 - val_loss: 0.5412 - val_accuracy: 0.8172\n",
      "Epoch 21/130\n",
      "531/531 [==============================] - 1s 2ms/step - loss: 0.5310 - accuracy: 0.8218 - val_loss: 0.5420 - val_accuracy: 0.8163\n",
      "Epoch 22/130\n",
      "531/531 [==============================] - 1s 2ms/step - loss: 0.5296 - accuracy: 0.8215 - val_loss: 0.5384 - val_accuracy: 0.8220\n",
      "Epoch 23/130\n",
      "531/531 [==============================] - 1s 2ms/step - loss: 0.5253 - accuracy: 0.8223 - val_loss: 0.5353 - val_accuracy: 0.8220\n",
      "Epoch 24/130\n",
      "531/531 [==============================] - 1s 2ms/step - loss: 0.5248 - accuracy: 0.8243 - val_loss: 0.5399 - val_accuracy: 0.8158\n",
      "Epoch 25/130\n",
      "531/531 [==============================] - 1s 2ms/step - loss: 0.5243 - accuracy: 0.8210 - val_loss: 0.5425 - val_accuracy: 0.8210\n",
      "Epoch 26/130\n",
      "531/531 [==============================] - 1s 2ms/step - loss: 0.5207 - accuracy: 0.8248 - val_loss: 0.5370 - val_accuracy: 0.8125\n",
      "Epoch 27/130\n",
      "531/531 [==============================] - 1s 2ms/step - loss: 0.5208 - accuracy: 0.8257 - val_loss: 0.5325 - val_accuracy: 0.8220\n",
      "Epoch 28/130\n",
      "531/531 [==============================] - 1s 2ms/step - loss: 0.5204 - accuracy: 0.8224 - val_loss: 0.5337 - val_accuracy: 0.8187\n",
      "Epoch 29/130\n",
      "531/531 [==============================] - 1s 2ms/step - loss: 0.5185 - accuracy: 0.8245 - val_loss: 0.5362 - val_accuracy: 0.8205\n",
      "Epoch 30/130\n",
      "531/531 [==============================] - 1s 2ms/step - loss: 0.5167 - accuracy: 0.8237 - val_loss: 0.5307 - val_accuracy: 0.8210\n",
      "Epoch 31/130\n",
      "531/531 [==============================] - 1s 2ms/step - loss: 0.5151 - accuracy: 0.8267 - val_loss: 0.5348 - val_accuracy: 0.8191\n",
      "Epoch 32/130\n",
      "531/531 [==============================] - 1s 2ms/step - loss: 0.5141 - accuracy: 0.8280 - val_loss: 0.5234 - val_accuracy: 0.8234\n",
      "Epoch 33/130\n",
      "531/531 [==============================] - 1s 2ms/step - loss: 0.5138 - accuracy: 0.8268 - val_loss: 0.5245 - val_accuracy: 0.8205\n",
      "Epoch 34/130\n",
      "531/531 [==============================] - 1s 2ms/step - loss: 0.5109 - accuracy: 0.8260 - val_loss: 0.5282 - val_accuracy: 0.8252\n",
      "Epoch 35/130\n",
      "531/531 [==============================] - 1s 2ms/step - loss: 0.5094 - accuracy: 0.8270 - val_loss: 0.5267 - val_accuracy: 0.8252\n",
      "Epoch 36/130\n",
      "531/531 [==============================] - 1s 2ms/step - loss: 0.5083 - accuracy: 0.8293 - val_loss: 0.5317 - val_accuracy: 0.8215\n",
      "Epoch 37/130\n",
      "531/531 [==============================] - 1s 2ms/step - loss: 0.5060 - accuracy: 0.8314 - val_loss: 0.5272 - val_accuracy: 0.8248\n",
      "Epoch 38/130\n",
      "531/531 [==============================] - 1s 2ms/step - loss: 0.5038 - accuracy: 0.8313 - val_loss: 0.5294 - val_accuracy: 0.8262\n",
      "Epoch 39/130\n",
      "531/531 [==============================] - 1s 2ms/step - loss: 0.5033 - accuracy: 0.8302 - val_loss: 0.5269 - val_accuracy: 0.8243\n",
      "Epoch 40/130\n",
      "531/531 [==============================] - 1s 2ms/step - loss: 0.5008 - accuracy: 0.8327 - val_loss: 0.5231 - val_accuracy: 0.8290\n",
      "Epoch 41/130\n",
      "531/531 [==============================] - 1s 2ms/step - loss: 0.4987 - accuracy: 0.8351 - val_loss: 0.5125 - val_accuracy: 0.8304\n",
      "Epoch 42/130\n",
      "531/531 [==============================] - 1s 2ms/step - loss: 0.4957 - accuracy: 0.8338 - val_loss: 0.5180 - val_accuracy: 0.8281\n",
      "Epoch 43/130\n",
      "531/531 [==============================] - 1s 2ms/step - loss: 0.4927 - accuracy: 0.8376 - val_loss: 0.5077 - val_accuracy: 0.8323\n",
      "Epoch 44/130\n",
      "531/531 [==============================] - 1s 2ms/step - loss: 0.4878 - accuracy: 0.8393 - val_loss: 0.4964 - val_accuracy: 0.8347\n",
      "Epoch 45/130\n",
      "531/531 [==============================] - 1s 2ms/step - loss: 0.4835 - accuracy: 0.8413 - val_loss: 0.4940 - val_accuracy: 0.8403\n",
      "Epoch 46/130\n",
      "531/531 [==============================] - 1s 2ms/step - loss: 0.4794 - accuracy: 0.8413 - val_loss: 0.4958 - val_accuracy: 0.8394\n",
      "Epoch 47/130\n",
      "531/531 [==============================] - 1s 2ms/step - loss: 0.4761 - accuracy: 0.8411 - val_loss: 0.4881 - val_accuracy: 0.8361\n",
      "Epoch 48/130\n",
      "531/531 [==============================] - 1s 2ms/step - loss: 0.4720 - accuracy: 0.8466 - val_loss: 0.4799 - val_accuracy: 0.8441\n",
      "Epoch 49/130\n",
      "531/531 [==============================] - 1s 2ms/step - loss: 0.4684 - accuracy: 0.8475 - val_loss: 0.4700 - val_accuracy: 0.8483\n",
      "Epoch 50/130\n",
      "531/531 [==============================] - 1s 2ms/step - loss: 0.4643 - accuracy: 0.8494 - val_loss: 0.4663 - val_accuracy: 0.8474\n",
      "Epoch 51/130\n",
      "531/531 [==============================] - 1s 2ms/step - loss: 0.4603 - accuracy: 0.8490 - val_loss: 0.4648 - val_accuracy: 0.8464\n",
      "Epoch 52/130\n",
      "531/531 [==============================] - 1s 2ms/step - loss: 0.4571 - accuracy: 0.8524 - val_loss: 0.4552 - val_accuracy: 0.8488\n",
      "Epoch 53/130\n",
      "531/531 [==============================] - 1s 2ms/step - loss: 0.4554 - accuracy: 0.8524 - val_loss: 0.4499 - val_accuracy: 0.8601\n",
      "Epoch 54/130\n",
      "531/531 [==============================] - 1s 2ms/step - loss: 0.4515 - accuracy: 0.8555 - val_loss: 0.4549 - val_accuracy: 0.8512\n",
      "Epoch 55/130\n",
      "531/531 [==============================] - 1s 2ms/step - loss: 0.4499 - accuracy: 0.8557 - val_loss: 0.4489 - val_accuracy: 0.8582\n",
      "Epoch 56/130\n",
      "531/531 [==============================] - 1s 2ms/step - loss: 0.4459 - accuracy: 0.8570 - val_loss: 0.4424 - val_accuracy: 0.8563\n",
      "Epoch 57/130\n",
      "531/531 [==============================] - 1s 2ms/step - loss: 0.4416 - accuracy: 0.8570 - val_loss: 0.4447 - val_accuracy: 0.8601\n"
     ]
    },
    {
     "name": "stdout",
     "output_type": "stream",
     "text": [
      "Epoch 58/130\n",
      "531/531 [==============================] - 1s 2ms/step - loss: 0.4382 - accuracy: 0.8603 - val_loss: 0.4392 - val_accuracy: 0.8610\n",
      "Epoch 59/130\n",
      "531/531 [==============================] - 1s 2ms/step - loss: 0.4370 - accuracy: 0.8613 - val_loss: 0.4315 - val_accuracy: 0.8615\n",
      "Epoch 60/130\n",
      "531/531 [==============================] - 1s 2ms/step - loss: 0.4334 - accuracy: 0.8619 - val_loss: 0.4368 - val_accuracy: 0.8601\n",
      "Epoch 61/130\n",
      "531/531 [==============================] - 1s 2ms/step - loss: 0.4298 - accuracy: 0.8632 - val_loss: 0.4295 - val_accuracy: 0.8662\n",
      "Epoch 62/130\n",
      "531/531 [==============================] - 1s 2ms/step - loss: 0.4294 - accuracy: 0.8648 - val_loss: 0.4217 - val_accuracy: 0.8681\n",
      "Epoch 63/130\n",
      "531/531 [==============================] - 1s 2ms/step - loss: 0.4264 - accuracy: 0.8674 - val_loss: 0.4229 - val_accuracy: 0.8667\n",
      "Epoch 64/130\n",
      "531/531 [==============================] - 1s 2ms/step - loss: 0.4254 - accuracy: 0.8639 - val_loss: 0.4296 - val_accuracy: 0.8672\n",
      "Epoch 65/130\n",
      "531/531 [==============================] - 1s 2ms/step - loss: 0.4241 - accuracy: 0.8662 - val_loss: 0.4158 - val_accuracy: 0.8742\n",
      "Epoch 66/130\n",
      "531/531 [==============================] - 1s 2ms/step - loss: 0.4199 - accuracy: 0.8669 - val_loss: 0.4347 - val_accuracy: 0.8658\n",
      "Epoch 67/130\n",
      "531/531 [==============================] - 1s 2ms/step - loss: 0.4206 - accuracy: 0.8663 - val_loss: 0.4316 - val_accuracy: 0.8695\n",
      "Epoch 68/130\n",
      "531/531 [==============================] - 1s 2ms/step - loss: 0.4182 - accuracy: 0.8685 - val_loss: 0.4239 - val_accuracy: 0.8714\n",
      "Epoch 69/130\n",
      "531/531 [==============================] - 1s 2ms/step - loss: 0.4175 - accuracy: 0.8686 - val_loss: 0.4037 - val_accuracy: 0.8738\n",
      "Epoch 70/130\n",
      "531/531 [==============================] - 1s 2ms/step - loss: 0.4157 - accuracy: 0.8681 - val_loss: 0.4106 - val_accuracy: 0.8742\n",
      "Epoch 71/130\n",
      "531/531 [==============================] - 1s 2ms/step - loss: 0.4131 - accuracy: 0.8686 - val_loss: 0.4041 - val_accuracy: 0.8775\n",
      "Epoch 72/130\n",
      "531/531 [==============================] - 1s 2ms/step - loss: 0.4109 - accuracy: 0.8708 - val_loss: 0.4025 - val_accuracy: 0.8818\n",
      "Epoch 73/130\n",
      "531/531 [==============================] - 1s 2ms/step - loss: 0.4110 - accuracy: 0.8705 - val_loss: 0.4071 - val_accuracy: 0.8728\n",
      "Epoch 74/130\n",
      "531/531 [==============================] - 1s 2ms/step - loss: 0.4078 - accuracy: 0.8721 - val_loss: 0.4098 - val_accuracy: 0.8733\n",
      "Epoch 75/130\n",
      "531/531 [==============================] - 1s 2ms/step - loss: 0.4095 - accuracy: 0.8712 - val_loss: 0.3979 - val_accuracy: 0.8813\n",
      "Epoch 76/130\n",
      "531/531 [==============================] - 1s 2ms/step - loss: 0.4091 - accuracy: 0.8711 - val_loss: 0.4024 - val_accuracy: 0.8775\n",
      "Epoch 77/130\n",
      "531/531 [==============================] - 1s 2ms/step - loss: 0.4064 - accuracy: 0.8700 - val_loss: 0.4030 - val_accuracy: 0.8808\n",
      "Epoch 78/130\n",
      "531/531 [==============================] - 1s 2ms/step - loss: 0.4058 - accuracy: 0.8727 - val_loss: 0.3997 - val_accuracy: 0.8771\n",
      "Epoch 79/130\n",
      "531/531 [==============================] - 1s 2ms/step - loss: 0.4060 - accuracy: 0.8725 - val_loss: 0.4131 - val_accuracy: 0.8728\n",
      "Epoch 80/130\n",
      "531/531 [==============================] - 1s 2ms/step - loss: 0.4028 - accuracy: 0.8745 - val_loss: 0.3969 - val_accuracy: 0.8813\n",
      "Epoch 81/130\n",
      "531/531 [==============================] - 1s 2ms/step - loss: 0.4023 - accuracy: 0.8715 - val_loss: 0.3998 - val_accuracy: 0.8780\n",
      "Epoch 82/130\n",
      "531/531 [==============================] - 1s 2ms/step - loss: 0.4014 - accuracy: 0.8741 - val_loss: 0.4034 - val_accuracy: 0.8813\n",
      "Epoch 83/130\n",
      "531/531 [==============================] - 1s 2ms/step - loss: 0.4001 - accuracy: 0.8724 - val_loss: 0.3947 - val_accuracy: 0.8771\n",
      "Epoch 84/130\n",
      "531/531 [==============================] - 1s 2ms/step - loss: 0.3973 - accuracy: 0.8746 - val_loss: 0.4018 - val_accuracy: 0.8771\n",
      "Epoch 85/130\n",
      "531/531 [==============================] - 1s 2ms/step - loss: 0.4008 - accuracy: 0.8751 - val_loss: 0.3900 - val_accuracy: 0.8808\n",
      "Epoch 86/130\n",
      "531/531 [==============================] - 1s 2ms/step - loss: 0.3952 - accuracy: 0.8747 - val_loss: 0.3892 - val_accuracy: 0.8846\n",
      "Epoch 87/130\n",
      "531/531 [==============================] - 1s 2ms/step - loss: 0.3943 - accuracy: 0.8773 - val_loss: 0.3965 - val_accuracy: 0.8752\n",
      "Epoch 88/130\n",
      "531/531 [==============================] - 1s 2ms/step - loss: 0.3959 - accuracy: 0.8755 - val_loss: 0.4056 - val_accuracy: 0.8799\n",
      "Epoch 89/130\n",
      "531/531 [==============================] - 1s 2ms/step - loss: 0.3970 - accuracy: 0.8756 - val_loss: 0.3931 - val_accuracy: 0.8818\n",
      "Epoch 90/130\n",
      "531/531 [==============================] - 1s 2ms/step - loss: 0.3944 - accuracy: 0.8762 - val_loss: 0.3963 - val_accuracy: 0.8804\n",
      "Epoch 91/130\n",
      "531/531 [==============================] - 1s 2ms/step - loss: 0.3938 - accuracy: 0.8735 - val_loss: 0.4040 - val_accuracy: 0.8804\n",
      "Epoch 92/130\n",
      "531/531 [==============================] - 1s 2ms/step - loss: 0.3909 - accuracy: 0.8778 - val_loss: 0.3935 - val_accuracy: 0.8799\n",
      "Epoch 93/130\n",
      "531/531 [==============================] - 1s 2ms/step - loss: 0.3932 - accuracy: 0.8753 - val_loss: 0.3960 - val_accuracy: 0.8804\n",
      "Epoch 94/130\n",
      "531/531 [==============================] - 1s 2ms/step - loss: 0.3909 - accuracy: 0.8761 - val_loss: 0.3909 - val_accuracy: 0.8827\n",
      "Epoch 95/130\n",
      "531/531 [==============================] - 1s 2ms/step - loss: 0.3909 - accuracy: 0.8771 - val_loss: 0.3883 - val_accuracy: 0.8832\n",
      "Epoch 96/130\n",
      "531/531 [==============================] - 1s 2ms/step - loss: 0.3917 - accuracy: 0.8766 - val_loss: 0.3890 - val_accuracy: 0.8804\n",
      "Epoch 97/130\n",
      "531/531 [==============================] - 1s 2ms/step - loss: 0.3877 - accuracy: 0.8764 - val_loss: 0.3927 - val_accuracy: 0.8808\n",
      "Epoch 98/130\n",
      "531/531 [==============================] - 1s 2ms/step - loss: 0.3905 - accuracy: 0.8782 - val_loss: 0.3881 - val_accuracy: 0.8789\n",
      "Epoch 99/130\n",
      "531/531 [==============================] - 1s 2ms/step - loss: 0.3881 - accuracy: 0.8775 - val_loss: 0.3908 - val_accuracy: 0.8808\n",
      "Epoch 100/130\n",
      "531/531 [==============================] - 1s 2ms/step - loss: 0.3874 - accuracy: 0.8771 - val_loss: 0.3997 - val_accuracy: 0.8738\n",
      "Epoch 101/130\n",
      "531/531 [==============================] - 1s 2ms/step - loss: 0.3868 - accuracy: 0.8782 - val_loss: 0.4090 - val_accuracy: 0.8728\n",
      "Epoch 102/130\n",
      "531/531 [==============================] - 1s 2ms/step - loss: 0.3870 - accuracy: 0.8787 - val_loss: 0.3865 - val_accuracy: 0.8794\n",
      "Epoch 103/130\n",
      "531/531 [==============================] - 1s 2ms/step - loss: 0.3854 - accuracy: 0.8788 - val_loss: 0.3868 - val_accuracy: 0.8832\n",
      "Epoch 104/130\n",
      "531/531 [==============================] - 1s 2ms/step - loss: 0.3863 - accuracy: 0.8765 - val_loss: 0.4031 - val_accuracy: 0.8780\n",
      "Epoch 105/130\n",
      "531/531 [==============================] - 1s 2ms/step - loss: 0.3848 - accuracy: 0.8785 - val_loss: 0.3834 - val_accuracy: 0.8832\n",
      "Epoch 106/130\n",
      "531/531 [==============================] - 1s 2ms/step - loss: 0.3840 - accuracy: 0.8784 - val_loss: 0.3972 - val_accuracy: 0.8804\n",
      "Epoch 107/130\n",
      "531/531 [==============================] - 1s 2ms/step - loss: 0.3854 - accuracy: 0.8762 - val_loss: 0.3944 - val_accuracy: 0.8775\n",
      "Epoch 108/130\n",
      "531/531 [==============================] - 1s 2ms/step - loss: 0.3818 - accuracy: 0.8787 - val_loss: 0.3839 - val_accuracy: 0.8855\n",
      "Epoch 109/130\n",
      "531/531 [==============================] - 1s 2ms/step - loss: 0.3841 - accuracy: 0.8767 - val_loss: 0.3902 - val_accuracy: 0.8818\n",
      "Epoch 110/130\n",
      "531/531 [==============================] - 1s 2ms/step - loss: 0.3814 - accuracy: 0.8782 - val_loss: 0.3917 - val_accuracy: 0.8794\n",
      "Epoch 111/130\n",
      "531/531 [==============================] - 1s 2ms/step - loss: 0.3827 - accuracy: 0.8800 - val_loss: 0.3944 - val_accuracy: 0.8780\n",
      "Epoch 112/130\n",
      "531/531 [==============================] - 1s 2ms/step - loss: 0.3796 - accuracy: 0.8778 - val_loss: 0.3829 - val_accuracy: 0.8855\n",
      "Epoch 113/130\n",
      "531/531 [==============================] - 1s 2ms/step - loss: 0.3817 - accuracy: 0.8791 - val_loss: 0.3894 - val_accuracy: 0.8785\n",
      "Epoch 114/130\n",
      "531/531 [==============================] - 1s 2ms/step - loss: 0.3831 - accuracy: 0.8776 - val_loss: 0.3935 - val_accuracy: 0.8822\n"
     ]
    },
    {
     "name": "stdout",
     "output_type": "stream",
     "text": [
      "Epoch 115/130\n",
      "531/531 [==============================] - 1s 2ms/step - loss: 0.3812 - accuracy: 0.8795 - val_loss: 0.3862 - val_accuracy: 0.8832\n",
      "Epoch 116/130\n",
      "531/531 [==============================] - 1s 2ms/step - loss: 0.3808 - accuracy: 0.8797 - val_loss: 0.3914 - val_accuracy: 0.8813\n",
      "Epoch 117/130\n",
      "531/531 [==============================] - 1s 2ms/step - loss: 0.3786 - accuracy: 0.8785 - val_loss: 0.3891 - val_accuracy: 0.8794\n",
      "Epoch 118/130\n",
      "531/531 [==============================] - 1s 2ms/step - loss: 0.3807 - accuracy: 0.8791 - val_loss: 0.3860 - val_accuracy: 0.8860\n",
      "Epoch 119/130\n",
      "531/531 [==============================] - 1s 2ms/step - loss: 0.3786 - accuracy: 0.8778 - val_loss: 0.3911 - val_accuracy: 0.8837\n",
      "Epoch 120/130\n",
      "531/531 [==============================] - 1s 2ms/step - loss: 0.3813 - accuracy: 0.8792 - val_loss: 0.3833 - val_accuracy: 0.8813\n",
      "Epoch 121/130\n",
      "531/531 [==============================] - 1s 2ms/step - loss: 0.3768 - accuracy: 0.8798 - val_loss: 0.3918 - val_accuracy: 0.8808\n",
      "Epoch 122/130\n",
      "531/531 [==============================] - 1s 2ms/step - loss: 0.3761 - accuracy: 0.8802 - val_loss: 0.3956 - val_accuracy: 0.8766\n",
      "Epoch 123/130\n",
      "531/531 [==============================] - 1s 2ms/step - loss: 0.3776 - accuracy: 0.8804 - val_loss: 0.3962 - val_accuracy: 0.8832\n",
      "Epoch 124/130\n",
      "531/531 [==============================] - 1s 2ms/step - loss: 0.3777 - accuracy: 0.8793 - val_loss: 0.3856 - val_accuracy: 0.8822\n",
      "Epoch 125/130\n",
      "531/531 [==============================] - 1s 2ms/step - loss: 0.3757 - accuracy: 0.8792 - val_loss: 0.3893 - val_accuracy: 0.8851\n",
      "Epoch 126/130\n",
      "531/531 [==============================] - 1s 2ms/step - loss: 0.3770 - accuracy: 0.8794 - val_loss: 0.3952 - val_accuracy: 0.8837\n",
      "Epoch 127/130\n",
      "531/531 [==============================] - 1s 2ms/step - loss: 0.3758 - accuracy: 0.8792 - val_loss: 0.3997 - val_accuracy: 0.8799\n",
      "Epoch 128/130\n",
      "531/531 [==============================] - 1s 2ms/step - loss: 0.3784 - accuracy: 0.8799 - val_loss: 0.3914 - val_accuracy: 0.8865\n",
      "Epoch 129/130\n",
      "531/531 [==============================] - 1s 2ms/step - loss: 0.3741 - accuracy: 0.8820 - val_loss: 0.3928 - val_accuracy: 0.8874\n",
      "Epoch 130/130\n",
      "531/531 [==============================] - 1s 2ms/step - loss: 0.3746 - accuracy: 0.8813 - val_loss: 0.3923 - val_accuracy: 0.8813\n"
     ]
    }
   ],
   "source": [
    "# Обучение модели\n",
    "history = model.fit(X_t_train, Y_train, validation_data = (X_t_test, Y_test), epochs = 130, batch_size = 16) #epochs = 130"
   ]
  },
  {
   "cell_type": "code",
   "execution_count": 15,
   "id": "7e6acd65",
   "metadata": {},
   "outputs": [
    {
     "name": "stdout",
     "output_type": "stream",
     "text": [
      "Model: \"sequential\"\n",
      "_________________________________________________________________\n",
      " Layer (type)                Output Shape              Param #   \n",
      "=================================================================\n",
      " dense (Dense)               (None, 16)                224       \n",
      "                                                                 \n",
      " dense_1 (Dense)             (None, 16)                272       \n",
      "                                                                 \n",
      " dense_2 (Dense)             (None, 16)                272       \n",
      "                                                                 \n",
      " dense_3 (Dense)             (None, 8)                 136       \n",
      "                                                                 \n",
      "=================================================================\n",
      "Total params: 904\n",
      "Trainable params: 904\n",
      "Non-trainable params: 0\n",
      "_________________________________________________________________\n"
     ]
    }
   ],
   "source": [
    "# Количество параметров моделив каждом слое\n",
    "model.summary()"
   ]
  },
  {
   "cell_type": "code",
   "execution_count": 16,
   "id": "4cc592b1",
   "metadata": {},
   "outputs": [
    {
     "data": {
      "image/png": "[encoded data removed]",
      "text/plain": [
       "<Figure size 432x288 with 1 Axes>"
      ]
     },
     "metadata": {
      "needs_background": "light"
     },
     "output_type": "display_data"
    },
    {
     "data": {
      "image/png": "[encoded data removed]",
      "text/plain": [
       "<Figure size 432x288 with 1 Axes>"
      ]
     },
     "metadata": {
      "needs_background": "light"
     },
     "output_type": "display_data"
    }
   ],
   "source": [
    "draw_curves(history, 'loss', 'accuracy')"
   ]
  },
  {
   "cell_type": "code",
   "execution_count": 17,
   "id": "7cd8a441",
   "metadata": {},
   "outputs": [
    {
     "name": "stdout",
     "output_type": "stream",
     "text": [
      "67/67 [==============================] - 0s 1ms/step\n"
     ]
    }
   ],
   "source": [
    "# Прогнозы модели\n",
    "predict = np.argmax(model.predict(X_t_test), axis=-1)"
   ]
  },
  {
   "cell_type": "code",
   "execution_count": 18,
   "id": "34d96129",
   "metadata": {},
   "outputs": [
    {
     "data": {
      "text/plain": [
       "array([[771,   1,   6,   0,   0,   0,   0,   0],\n",
       "       [  6, 338,   4,   5,   0,   0,  12,   0],\n",
       "       [  1,  16, 315,   5,  14,   5,   0,   0],\n",
       "       [  0,   1,  11, 294,   2,   6,   0,   0],\n",
       "       [  0,   0,   8,   3, 104,   2,   0,   0],\n",
       "       [  2,   8,  40,  11,  15,  12,   1,   0],\n",
       "       [  0,  39,   2,   2,   0,   0,  37,   0],\n",
       "       [  0,   7,   7,   6,   2,   1,   1,   0]], dtype=int64)"
      ]
     },
     "execution_count": 18,
     "metadata": {},
     "output_type": "execute_result"
    }
   ],
   "source": [
    "confusion_matrix(Y_test, predict)"
   ]
  },
  {
   "cell_type": "code",
   "execution_count": 21,
   "id": "4997b146",
   "metadata": {},
   "outputs": [
    {
     "data": {
      "text/plain": [
       "0.881300047103156"
      ]
     },
     "execution_count": 21,
     "metadata": {},
     "output_type": "execute_result"
    }
   ],
   "source": [
    "f1_score(Y_test, predict, average = 'micro')"
   ]
  },
  {
   "cell_type": "code",
   "execution_count": 22,
   "id": "5b37ea6d",
   "metadata": {},
   "outputs": [],
   "source": [
    "# Сохранение модели\n",
    "model.save('neuron_net_clf.h5')"
   ]
  },
  {
   "cell_type": "code",
   "execution_count": null,
   "id": "4fc8bcd8",
   "metadata": {},
   "outputs": [],
   "source": []
  }
 ],
 "metadata": {
  "kernelspec": {
   "display_name": "Python 3 (ipykernel)",
   "language": "python",
   "name": "python3"
  },
  "language_info": {
   "codemirror_mode": {
    "name": "ipython",
    "version": 3
   },
   "file_extension": ".py",
   "mimetype": "text/x-python",
   "name": "python",
   "nbconvert_exporter": "python",
   "pygments_lexer": "ipython3",
   "version": "3.9.7"
  }
 },
 "nbformat": 4,
 "nbformat_minor": 5
}
