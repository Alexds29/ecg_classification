{
 "cells": [
  {
   "cell_type": "code",
   "execution_count": 1,
   "id": "21d64c83",
   "metadata": {},
   "outputs": [],
   "source": [
    "# Добавляем каталог для поиска модулей (Здесь необходимо указать свой абсолютный путь к корневому каталогу)\n",
    "import sys\n",
    "#sys.path.append(jp.joinpath('C:\\\\Users\\\\Alex_DS\\\\Datascientist\\\\', 'ECG_new_forward'))\n",
    "sys.path.append('C:\\\\Users\\\\Alex_DS\\\\Datascientist\\\\ECG_new_forward')\n",
    "\n",
    "\n",
    "from sklearn.ensemble import GradientBoostingClassifier\n",
    "import Pipes.fit_and_score as fit_score\n",
    "import Pipes.train_test_split as tts\n",
    "import pickle"
   ]
  },
  {
   "cell_type": "markdown",
   "id": "09d27793",
   "metadata": {},
   "source": [
    "## Градиентный бустинг"
   ]
  },
  {
   "cell_type": "code",
   "execution_count": 2,
   "id": "e9080dae",
   "metadata": {},
   "outputs": [],
   "source": [
    "X_train, Y_train, X_test, Y_test = tts.read_split()\n",
    "#X = pd.read_csv('X.csv', index_col = 'Unnamed: 0')\n",
    "#Y = pd.read_csv('Y.csv', index_col = 'Unnamed: 0')\n",
    "\n",
    "#X_train, X_test, Y_train, Y_test = train_test_split(X, Y, test_size = 0.2, random_state = 42, stratify = Y)"
   ]
  },
  {
   "cell_type": "code",
   "execution_count": 3,
   "id": "598b865a",
   "metadata": {},
   "outputs": [],
   "source": [
    "grad = GradientBoostingClassifier()"
   ]
  },
  {
   "cell_type": "code",
   "execution_count": 4,
   "id": "53db416e",
   "metadata": {},
   "outputs": [
    {
     "name": "stderr",
     "output_type": "stream",
     "text": [
      "C:\\Users\\Alex_DS\\anaconda3\\lib\\site-packages\\sklearn\\utils\\validation.py:63: DataConversionWarning: A column-vector y was passed when a 1d array was expected. Please change the shape of y to (n_samples, ), for example using ravel().\n",
      "  return f(*args, **kwargs)\n"
     ]
    },
    {
     "name": "stdout",
     "output_type": "stream",
     "text": [
      "Точность модели на тестовом множестве : 0.854\n",
      "Точность модели на тренировочном множестве: 0.909\n",
      "******************************\n",
      "Показатель модели f1: 0.854\n"
     ]
    },
    {
     "name": "stderr",
     "output_type": "stream",
     "text": [
      "C:\\Users\\Alex_DS\\anaconda3\\lib\\site-packages\\sklearn\\utils\\validation.py:63: DataConversionWarning: A column-vector y was passed when a 1d array was expected. Please change the shape of y to (n_samples, ), for example using ravel().\n",
      "  return f(*args, **kwargs)\n",
      "C:\\Users\\Alex_DS\\anaconda3\\lib\\site-packages\\sklearn\\utils\\validation.py:63: DataConversionWarning: A column-vector y was passed when a 1d array was expected. Please change the shape of y to (n_samples, ), for example using ravel().\n",
      "  return f(*args, **kwargs)\n",
      "C:\\Users\\Alex_DS\\anaconda3\\lib\\site-packages\\sklearn\\utils\\validation.py:63: DataConversionWarning: A column-vector y was passed when a 1d array was expected. Please change the shape of y to (n_samples, ), for example using ravel().\n",
      "  return f(*args, **kwargs)\n",
      "C:\\Users\\Alex_DS\\anaconda3\\lib\\site-packages\\sklearn\\utils\\validation.py:63: DataConversionWarning: A column-vector y was passed when a 1d array was expected. Please change the shape of y to (n_samples, ), for example using ravel().\n",
      "  return f(*args, **kwargs)\n",
      "C:\\Users\\Alex_DS\\anaconda3\\lib\\site-packages\\sklearn\\utils\\validation.py:63: DataConversionWarning: A column-vector y was passed when a 1d array was expected. Please change the shape of y to (n_samples, ), for example using ravel().\n",
      "  return f(*args, **kwargs)\n"
     ]
    },
    {
     "name": "stdout",
     "output_type": "stream",
     "text": [
      "Показатель точности после кроссвалидации: 0.852\n"
     ]
    }
   ],
   "source": [
    "fit_score.fit_and_score_model(grad, X_train, Y_train, X_test, Y_test)"
   ]
  },
  {
   "cell_type": "markdown",
   "id": "9d51ac9d",
   "metadata": {},
   "source": [
    "## Сохраняем полученную модель"
   ]
  },
  {
   "cell_type": "code",
   "execution_count": 5,
   "id": "fff999c3",
   "metadata": {},
   "outputs": [],
   "source": [
    "mod_name = 'gradient_boosting.pkl'\n",
    "with open(mod_name , 'wb') as f:\n",
    "    pickle.dump(grad, f)"
   ]
  },
  {
   "cell_type": "code",
   "execution_count": null,
   "id": "38b440c4",
   "metadata": {},
   "outputs": [],
   "source": []
  }
 ],
 "metadata": {
  "kernelspec": {
   "display_name": "Python 3 (ipykernel)",
   "language": "python",
   "name": "python3"
  },
  "language_info": {
   "codemirror_mode": {
    "name": "ipython",
    "version": 3
   },
   "file_extension": ".py",
   "mimetype": "text/x-python",
   "name": "python",
   "nbconvert_exporter": "python",
   "pygments_lexer": "ipython3",
   "version": "3.9.7"
  }
 },
 "nbformat": 4,
 "nbformat_minor": 5
}
