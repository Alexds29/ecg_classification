{
 "cells": [
  {
   "cell_type": "code",
   "execution_count": 66,
   "id": "f146bbec",
   "metadata": {},
   "outputs": [],
   "source": [
    "# Добавляем каталог для поиска модулей (Здесь необходимо указать свой абсолютный путь к корневому каталогу)\n",
    "import sys\n",
    "#sys.path.append(jp.joinpath('C:\\\\Users\\\\Alex_DS\\\\Datascientist\\\\', 'ECG_new_forward'))\n",
    "sys.path.append('C:\\\\Users\\\\Alex_DS\\\\Datascientist\\\\ECG_new_forward')\n",
    "\n",
    "\n",
    "import Pipes.train_test_split_scaled as ttss\n",
    "from tensorflow.keras import models\n",
    "from tensorflow.keras import layers\n",
    "from tensorflow import keras\n",
    "from tensorflow.keras import regularizers\n",
    "import matplotlib.pyplot as plt\n",
    "import numpy as np\n",
    "from sklearn.metrics import confusion_matrix, f1_score\n",
    "plt.rcParams[\"figure.figsize\"] = (18,6)"
   ]
  },
  {
   "cell_type": "code",
   "execution_count": 31,
   "id": "00008dc4",
   "metadata": {},
   "outputs": [],
   "source": [
    "# Рисовалка кривых обучения\n",
    "\n",
    "def draw_curves (history, los, metric):\n",
    "    \n",
    "    acc = history.history[metric]\n",
    "    val_acc = history.history['val_'+metric]\n",
    "    loss = history.history[los]\n",
    "    val_loss = history.history['val_'+los]\n",
    "\n",
    "    epochs = range(1, len(acc)+1)\n",
    "    plt.plot(epochs, acc, 'bo', label = 'Training '+metric)\n",
    "    plt.plot(epochs, val_acc, 'b', label = 'Validation '+metric)\n",
    "    plt.title('Training and Validation '+metric)\n",
    "    plt.legend()\n",
    "\n",
    "    plt.figure()\n",
    "\n",
    "    plt.plot(epochs, loss, 'bo', label = 'Training loss')\n",
    "    plt.plot(epochs, val_loss, 'b', label = 'Validation loss')\n",
    "    plt.title('Training and Validation loss')\n",
    "    plt.legend()\n",
    "\n",
    "    plt.show()"
   ]
  },
  {
   "cell_type": "markdown",
   "id": "6a574186",
   "metadata": {},
   "source": [
    "## Нейросеть"
   ]
  },
  {
   "cell_type": "code",
   "execution_count": 32,
   "id": "4800e066",
   "metadata": {},
   "outputs": [],
   "source": [
    "X_t_train, Y_train, X_t_test, Y_test = ttss.read_split()\n",
    "#X = pd.read_csv('X.csv', index_col = 'Unnamed: 0')\n",
    "#Y = pd.read_csv('Y.csv', index_col = 'Unnamed: 0')\n",
    "\n",
    "#X_train, X_test, Y_train, Y_test = train_test_split(X, Y, test_size = 0.2, random_state = 42, stratify = Y)"
   ]
  },
  {
   "cell_type": "code",
   "execution_count": 33,
   "id": "8370dddc",
   "metadata": {},
   "outputs": [],
   "source": [
    "#sc = StandardScaler()\n",
    "\n",
    "#X_t_train = sc.fit_transform(X_train)\n",
    "#X_t_test = sc.transform(X_test)"
   ]
  },
  {
   "cell_type": "code",
   "execution_count": 60,
   "id": "0f328a4f",
   "metadata": {},
   "outputs": [],
   "source": [
    "#  Структура модели\n",
    "model = models.Sequential()\n",
    "\n",
    "model.add(layers.Dense(32, activation=\"relu\", input_shape = (X_t_train.shape[1],)))\n",
    "#model.add(layers.Dropout(0.05))\n",
    "model.add(layers.Dense(16, activation=\"relu\"))#, input_shape = (X_t_train.shape[1],)))\n",
    "#model.add(layers.Dropout(0.05))\n",
    "model.add(layers.Dense(8, activation=\"relu\")) #input_shape = (X_t_train.shape[1],)))\n",
    "#model.add(layers.Dropout(0.05))\n",
    "#model.add(GlobalAveragePooling1D())\n",
    "model.add(layers.Dense(8, activation=\"softmax\", kernel_regularizer = regularizers.l2(0.001)))#, input_shape = (X_t_train.shape[1],), #kernel_regularizer = regularizers.l1(0.1)\n",
    "                       ##))"
   ]
  },
  {
   "cell_type": "code",
   "execution_count": 61,
   "id": "b6f5f506",
   "metadata": {},
   "outputs": [],
   "source": [
    "# Компиляция модели\n",
    "model.compile(optimizer=keras.optimizers.Adam(learning_rate=0.001),\n",
    "              loss=\"sparse_categorical_crossentropy\",\n",
    "              metrics=[\"accuracy\"])"
   ]
  },
  {
   "cell_type": "code",
   "execution_count": 62,
   "id": "b19fff74",
   "metadata": {},
   "outputs": [
    {
     "data": {
      "text/plain": [
       "((8492, 13), (8492, 1))"
      ]
     },
     "execution_count": 62,
     "metadata": {},
     "output_type": "execute_result"
    }
   ],
   "source": [
    "X_t_train.shape, Y_train.shape"
   ]
  },
  {
   "cell_type": "code",
   "execution_count": 63,
   "id": "23e30c72",
   "metadata": {},
   "outputs": [
    {
     "name": "stdout",
     "output_type": "stream",
     "text": [
      "Epoch 1/120\n",
      "531/531 [==============================] - 2s 2ms/step - loss: 1.3447 - accuracy: 0.5440 - val_loss: 1.0290 - val_accuracy: 0.6232\n",
      "Epoch 2/120\n",
      "531/531 [==============================] - 2s 3ms/step - loss: 0.9156 - accuracy: 0.6936 - val_loss: 0.8315 - val_accuracy: 0.7358\n",
      "Epoch 3/120\n",
      "531/531 [==============================] - 2s 4ms/step - loss: 0.7423 - accuracy: 0.7578 - val_loss: 0.6972 - val_accuracy: 0.7593\n",
      "Epoch 4/120\n",
      "531/531 [==============================] - 1s 3ms/step - loss: 0.6565 - accuracy: 0.7793 - val_loss: 0.6394 - val_accuracy: 0.7857\n",
      "Epoch 5/120\n",
      "531/531 [==============================] - 1s 2ms/step - loss: 0.6214 - accuracy: 0.7882 - val_loss: 0.6113 - val_accuracy: 0.7993\n",
      "Epoch 6/120\n",
      "531/531 [==============================] - 1s 2ms/step - loss: 0.5990 - accuracy: 0.7993 - val_loss: 0.5986 - val_accuracy: 0.8036\n",
      "Epoch 7/120\n",
      "531/531 [==============================] - 1s 3ms/step - loss: 0.5860 - accuracy: 0.8023 - val_loss: 0.5841 - val_accuracy: 0.8012\n",
      "Epoch 8/120\n",
      "531/531 [==============================] - 1s 2ms/step - loss: 0.5764 - accuracy: 0.8069 - val_loss: 0.5734 - val_accuracy: 0.8116\n",
      "Epoch 9/120\n",
      "531/531 [==============================] - 1s 2ms/step - loss: 0.5673 - accuracy: 0.8108 - val_loss: 0.5761 - val_accuracy: 0.8097\n",
      "Epoch 10/120\n",
      "531/531 [==============================] - 1s 2ms/step - loss: 0.5602 - accuracy: 0.8134 - val_loss: 0.5614 - val_accuracy: 0.8191\n",
      "Epoch 11/120\n",
      "531/531 [==============================] - 1s 2ms/step - loss: 0.5527 - accuracy: 0.8171 - val_loss: 0.5640 - val_accuracy: 0.8073\n",
      "Epoch 12/120\n",
      "531/531 [==============================] - 1s 2ms/step - loss: 0.5508 - accuracy: 0.8172 - val_loss: 0.5629 - val_accuracy: 0.8158\n",
      "Epoch 13/120\n",
      "531/531 [==============================] - 1s 2ms/step - loss: 0.5420 - accuracy: 0.8187 - val_loss: 0.5610 - val_accuracy: 0.8172\n",
      "Epoch 14/120\n",
      "531/531 [==============================] - 1s 3ms/step - loss: 0.5404 - accuracy: 0.8211 - val_loss: 0.5500 - val_accuracy: 0.8172\n",
      "Epoch 15/120\n",
      "531/531 [==============================] - 2s 3ms/step - loss: 0.5361 - accuracy: 0.8205 - val_loss: 0.5446 - val_accuracy: 0.8215\n",
      "Epoch 16/120\n",
      "531/531 [==============================] - 1s 2ms/step - loss: 0.5309 - accuracy: 0.8261 - val_loss: 0.5409 - val_accuracy: 0.8248\n",
      "Epoch 17/120\n",
      "531/531 [==============================] - 1s 3ms/step - loss: 0.5272 - accuracy: 0.8272 - val_loss: 0.5324 - val_accuracy: 0.8295\n",
      "Epoch 18/120\n",
      "531/531 [==============================] - 1s 2ms/step - loss: 0.5244 - accuracy: 0.8262 - val_loss: 0.5280 - val_accuracy: 0.8295\n",
      "Epoch 19/120\n",
      "531/531 [==============================] - 1s 2ms/step - loss: 0.5192 - accuracy: 0.8264 - val_loss: 0.5280 - val_accuracy: 0.8290\n",
      "Epoch 20/120\n",
      "531/531 [==============================] - 2s 3ms/step - loss: 0.5105 - accuracy: 0.8329 - val_loss: 0.5246 - val_accuracy: 0.8351\n",
      "Epoch 21/120\n",
      "531/531 [==============================] - 1s 2ms/step - loss: 0.5065 - accuracy: 0.8343 - val_loss: 0.5229 - val_accuracy: 0.8351\n",
      "Epoch 22/120\n",
      "531/531 [==============================] - 1s 2ms/step - loss: 0.5042 - accuracy: 0.8344 - val_loss: 0.5096 - val_accuracy: 0.8366\n",
      "Epoch 23/120\n",
      "531/531 [==============================] - 1s 2ms/step - loss: 0.4999 - accuracy: 0.8369 - val_loss: 0.5122 - val_accuracy: 0.8403\n",
      "Epoch 24/120\n",
      "531/531 [==============================] - 1s 2ms/step - loss: 0.4941 - accuracy: 0.8384 - val_loss: 0.5064 - val_accuracy: 0.8394\n",
      "Epoch 25/120\n",
      "531/531 [==============================] - 2s 3ms/step - loss: 0.4913 - accuracy: 0.8411 - val_loss: 0.5054 - val_accuracy: 0.8436\n",
      "Epoch 26/120\n",
      "531/531 [==============================] - 1s 2ms/step - loss: 0.4866 - accuracy: 0.8401 - val_loss: 0.4906 - val_accuracy: 0.8427\n",
      "Epoch 27/120\n",
      "531/531 [==============================] - 1s 2ms/step - loss: 0.4821 - accuracy: 0.8433 - val_loss: 0.4814 - val_accuracy: 0.8516\n",
      "Epoch 28/120\n",
      "531/531 [==============================] - 1s 2ms/step - loss: 0.4777 - accuracy: 0.8469 - val_loss: 0.4922 - val_accuracy: 0.8427\n",
      "Epoch 29/120\n",
      "531/531 [==============================] - 1s 2ms/step - loss: 0.4733 - accuracy: 0.8501 - val_loss: 0.4841 - val_accuracy: 0.8488\n",
      "Epoch 30/120\n",
      "531/531 [==============================] - 1s 2ms/step - loss: 0.4723 - accuracy: 0.8486 - val_loss: 0.4749 - val_accuracy: 0.8516\n",
      "Epoch 31/120\n",
      "531/531 [==============================] - 1s 2ms/step - loss: 0.4680 - accuracy: 0.8516 - val_loss: 0.4772 - val_accuracy: 0.8554\n",
      "Epoch 32/120\n",
      "531/531 [==============================] - 1s 2ms/step - loss: 0.4645 - accuracy: 0.8504 - val_loss: 0.4650 - val_accuracy: 0.8559\n",
      "Epoch 33/120\n",
      "531/531 [==============================] - 1s 2ms/step - loss: 0.4618 - accuracy: 0.8521 - val_loss: 0.4728 - val_accuracy: 0.8549\n",
      "Epoch 34/120\n",
      "531/531 [==============================] - 1s 2ms/step - loss: 0.4570 - accuracy: 0.8522 - val_loss: 0.4623 - val_accuracy: 0.8587\n",
      "Epoch 35/120\n",
      "531/531 [==============================] - 1s 2ms/step - loss: 0.4559 - accuracy: 0.8548 - val_loss: 0.4600 - val_accuracy: 0.8577\n",
      "Epoch 36/120\n",
      "531/531 [==============================] - 2s 3ms/step - loss: 0.4526 - accuracy: 0.8554 - val_loss: 0.4572 - val_accuracy: 0.8582\n",
      "Epoch 37/120\n",
      "531/531 [==============================] - 1s 2ms/step - loss: 0.4490 - accuracy: 0.8590 - val_loss: 0.4525 - val_accuracy: 0.8587\n",
      "Epoch 38/120\n",
      "531/531 [==============================] - 1s 2ms/step - loss: 0.4489 - accuracy: 0.8596 - val_loss: 0.4501 - val_accuracy: 0.8639\n",
      "Epoch 39/120\n",
      "531/531 [==============================] - 1s 2ms/step - loss: 0.4448 - accuracy: 0.8599 - val_loss: 0.4521 - val_accuracy: 0.8596\n",
      "Epoch 40/120\n",
      "531/531 [==============================] - 1s 2ms/step - loss: 0.4433 - accuracy: 0.8598 - val_loss: 0.4460 - val_accuracy: 0.8620\n",
      "Epoch 41/120\n",
      "531/531 [==============================] - 1s 2ms/step - loss: 0.4407 - accuracy: 0.8612 - val_loss: 0.4443 - val_accuracy: 0.8573\n",
      "Epoch 42/120\n",
      "531/531 [==============================] - 1s 2ms/step - loss: 0.4399 - accuracy: 0.8601 - val_loss: 0.4504 - val_accuracy: 0.8563\n",
      "Epoch 43/120\n",
      "531/531 [==============================] - 1s 2ms/step - loss: 0.4358 - accuracy: 0.8608 - val_loss: 0.4397 - val_accuracy: 0.8643\n",
      "Epoch 44/120\n",
      "531/531 [==============================] - 1s 2ms/step - loss: 0.4325 - accuracy: 0.8647 - val_loss: 0.4499 - val_accuracy: 0.8629\n",
      "Epoch 45/120\n",
      "531/531 [==============================] - 1s 2ms/step - loss: 0.4295 - accuracy: 0.8641 - val_loss: 0.4571 - val_accuracy: 0.8592\n",
      "Epoch 46/120\n",
      "531/531 [==============================] - 1s 2ms/step - loss: 0.4290 - accuracy: 0.8640 - val_loss: 0.4333 - val_accuracy: 0.8681\n",
      "Epoch 47/120\n",
      "531/531 [==============================] - 1s 2ms/step - loss: 0.4305 - accuracy: 0.8615 - val_loss: 0.4380 - val_accuracy: 0.8625\n",
      "Epoch 48/120\n",
      "531/531 [==============================] - 1s 3ms/step - loss: 0.4280 - accuracy: 0.8627 - val_loss: 0.4334 - val_accuracy: 0.8662\n",
      "Epoch 49/120\n",
      "531/531 [==============================] - 1s 3ms/step - loss: 0.4272 - accuracy: 0.8645 - val_loss: 0.4311 - val_accuracy: 0.8658\n",
      "Epoch 50/120\n",
      "531/531 [==============================] - 1s 2ms/step - loss: 0.4244 - accuracy: 0.8643 - val_loss: 0.4362 - val_accuracy: 0.8625\n",
      "Epoch 51/120\n",
      "531/531 [==============================] - 1s 2ms/step - loss: 0.4236 - accuracy: 0.8650 - val_loss: 0.4358 - val_accuracy: 0.8672\n",
      "Epoch 52/120\n",
      "531/531 [==============================] - 1s 2ms/step - loss: 0.4202 - accuracy: 0.8678 - val_loss: 0.4321 - val_accuracy: 0.8653\n",
      "Epoch 53/120\n",
      "531/531 [==============================] - 1s 2ms/step - loss: 0.4198 - accuracy: 0.8674 - val_loss: 0.4331 - val_accuracy: 0.8662\n",
      "Epoch 54/120\n",
      "531/531 [==============================] - 1s 2ms/step - loss: 0.4210 - accuracy: 0.8676 - val_loss: 0.4257 - val_accuracy: 0.8705\n",
      "Epoch 55/120\n",
      "531/531 [==============================] - 1s 2ms/step - loss: 0.4179 - accuracy: 0.8663 - val_loss: 0.4194 - val_accuracy: 0.8724\n",
      "Epoch 56/120\n",
      "531/531 [==============================] - 1s 2ms/step - loss: 0.4170 - accuracy: 0.8679 - val_loss: 0.4243 - val_accuracy: 0.8724\n",
      "Epoch 57/120\n",
      "531/531 [==============================] - 1s 2ms/step - loss: 0.4134 - accuracy: 0.8663 - val_loss: 0.4414 - val_accuracy: 0.8691\n"
     ]
    },
    {
     "name": "stdout",
     "output_type": "stream",
     "text": [
      "Epoch 58/120\n",
      "531/531 [==============================] - 1s 2ms/step - loss: 0.4158 - accuracy: 0.8668 - val_loss: 0.4231 - val_accuracy: 0.8724\n",
      "Epoch 59/120\n",
      "531/531 [==============================] - 2s 3ms/step - loss: 0.4113 - accuracy: 0.8688 - val_loss: 0.4248 - val_accuracy: 0.8714\n",
      "Epoch 60/120\n",
      "531/531 [==============================] - 1s 2ms/step - loss: 0.4123 - accuracy: 0.8666 - val_loss: 0.4327 - val_accuracy: 0.8672\n",
      "Epoch 61/120\n",
      "531/531 [==============================] - 1s 2ms/step - loss: 0.4086 - accuracy: 0.8687 - val_loss: 0.4155 - val_accuracy: 0.8714\n",
      "Epoch 62/120\n",
      "531/531 [==============================] - 1s 2ms/step - loss: 0.4111 - accuracy: 0.8683 - val_loss: 0.4104 - val_accuracy: 0.8775\n",
      "Epoch 63/120\n",
      "531/531 [==============================] - 1s 2ms/step - loss: 0.4071 - accuracy: 0.8720 - val_loss: 0.4133 - val_accuracy: 0.8728\n",
      "Epoch 64/120\n",
      "531/531 [==============================] - 1s 2ms/step - loss: 0.4070 - accuracy: 0.8733 - val_loss: 0.4290 - val_accuracy: 0.8700\n",
      "Epoch 65/120\n",
      "531/531 [==============================] - 1s 2ms/step - loss: 0.4045 - accuracy: 0.8736 - val_loss: 0.4132 - val_accuracy: 0.8766\n",
      "Epoch 66/120\n",
      "531/531 [==============================] - 1s 2ms/step - loss: 0.4043 - accuracy: 0.8734 - val_loss: 0.4284 - val_accuracy: 0.8709\n",
      "Epoch 67/120\n",
      "531/531 [==============================] - 1s 2ms/step - loss: 0.4048 - accuracy: 0.8716 - val_loss: 0.4180 - val_accuracy: 0.8724\n",
      "Epoch 68/120\n",
      "531/531 [==============================] - 1s 2ms/step - loss: 0.4021 - accuracy: 0.8729 - val_loss: 0.4151 - val_accuracy: 0.8761\n",
      "Epoch 69/120\n",
      "531/531 [==============================] - 1s 2ms/step - loss: 0.4008 - accuracy: 0.8748 - val_loss: 0.4220 - val_accuracy: 0.8742\n",
      "Epoch 70/120\n",
      "531/531 [==============================] - 1s 2ms/step - loss: 0.4033 - accuracy: 0.8733 - val_loss: 0.4200 - val_accuracy: 0.8724\n",
      "Epoch 71/120\n",
      "531/531 [==============================] - 1s 2ms/step - loss: 0.4027 - accuracy: 0.8727 - val_loss: 0.4162 - val_accuracy: 0.8766\n",
      "Epoch 72/120\n",
      "531/531 [==============================] - 1s 2ms/step - loss: 0.4002 - accuracy: 0.8733 - val_loss: 0.4152 - val_accuracy: 0.8804\n",
      "Epoch 73/120\n",
      "531/531 [==============================] - 1s 2ms/step - loss: 0.4006 - accuracy: 0.8736 - val_loss: 0.4131 - val_accuracy: 0.8766\n",
      "Epoch 74/120\n",
      "531/531 [==============================] - 1s 2ms/step - loss: 0.4003 - accuracy: 0.8739 - val_loss: 0.4107 - val_accuracy: 0.8733\n",
      "Epoch 75/120\n",
      "531/531 [==============================] - 1s 2ms/step - loss: 0.4006 - accuracy: 0.8738 - val_loss: 0.4112 - val_accuracy: 0.8775\n",
      "Epoch 76/120\n",
      "531/531 [==============================] - 1s 2ms/step - loss: 0.3961 - accuracy: 0.8740 - val_loss: 0.4182 - val_accuracy: 0.8691\n",
      "Epoch 77/120\n",
      "531/531 [==============================] - 1s 2ms/step - loss: 0.3941 - accuracy: 0.8780 - val_loss: 0.4106 - val_accuracy: 0.8804\n",
      "Epoch 78/120\n",
      "531/531 [==============================] - 1s 2ms/step - loss: 0.3940 - accuracy: 0.8774 - val_loss: 0.4081 - val_accuracy: 0.8761\n",
      "Epoch 79/120\n",
      "531/531 [==============================] - 1s 2ms/step - loss: 0.3945 - accuracy: 0.8754 - val_loss: 0.4202 - val_accuracy: 0.8742\n",
      "Epoch 80/120\n",
      "531/531 [==============================] - 1s 2ms/step - loss: 0.3937 - accuracy: 0.8736 - val_loss: 0.4094 - val_accuracy: 0.8761\n",
      "Epoch 81/120\n",
      "531/531 [==============================] - 1s 2ms/step - loss: 0.3936 - accuracy: 0.8751 - val_loss: 0.4091 - val_accuracy: 0.8808\n",
      "Epoch 82/120\n",
      "531/531 [==============================] - 1s 2ms/step - loss: 0.3952 - accuracy: 0.8749 - val_loss: 0.4172 - val_accuracy: 0.8733\n",
      "Epoch 83/120\n",
      "531/531 [==============================] - 1s 2ms/step - loss: 0.3935 - accuracy: 0.8752 - val_loss: 0.4086 - val_accuracy: 0.8709\n",
      "Epoch 84/120\n",
      "531/531 [==============================] - 1s 2ms/step - loss: 0.3911 - accuracy: 0.8767 - val_loss: 0.4039 - val_accuracy: 0.8804\n",
      "Epoch 85/120\n",
      "531/531 [==============================] - 1s 2ms/step - loss: 0.3917 - accuracy: 0.8742 - val_loss: 0.4031 - val_accuracy: 0.8818\n",
      "Epoch 86/120\n",
      "531/531 [==============================] - 1s 2ms/step - loss: 0.3903 - accuracy: 0.8776 - val_loss: 0.4036 - val_accuracy: 0.8789\n",
      "Epoch 87/120\n",
      "531/531 [==============================] - 1s 2ms/step - loss: 0.3903 - accuracy: 0.8769 - val_loss: 0.4070 - val_accuracy: 0.8766\n",
      "Epoch 88/120\n",
      "531/531 [==============================] - 1s 2ms/step - loss: 0.3892 - accuracy: 0.8767 - val_loss: 0.4076 - val_accuracy: 0.8808\n",
      "Epoch 89/120\n",
      "531/531 [==============================] - 1s 2ms/step - loss: 0.3876 - accuracy: 0.8767 - val_loss: 0.4030 - val_accuracy: 0.8752\n",
      "Epoch 90/120\n",
      "531/531 [==============================] - 1s 2ms/step - loss: 0.3876 - accuracy: 0.8761 - val_loss: 0.4105 - val_accuracy: 0.8780\n",
      "Epoch 91/120\n",
      "531/531 [==============================] - 1s 2ms/step - loss: 0.3865 - accuracy: 0.8776 - val_loss: 0.4086 - val_accuracy: 0.8775\n",
      "Epoch 92/120\n",
      "531/531 [==============================] - 1s 2ms/step - loss: 0.3871 - accuracy: 0.8773 - val_loss: 0.4128 - val_accuracy: 0.8794\n",
      "Epoch 93/120\n",
      "531/531 [==============================] - 1s 2ms/step - loss: 0.3884 - accuracy: 0.8774 - val_loss: 0.4010 - val_accuracy: 0.8785\n",
      "Epoch 94/120\n",
      "531/531 [==============================] - 1s 2ms/step - loss: 0.3862 - accuracy: 0.8767 - val_loss: 0.4060 - val_accuracy: 0.8761\n",
      "Epoch 95/120\n",
      "531/531 [==============================] - 1s 2ms/step - loss: 0.3864 - accuracy: 0.8754 - val_loss: 0.4095 - val_accuracy: 0.8771\n",
      "Epoch 96/120\n",
      "531/531 [==============================] - 1s 2ms/step - loss: 0.3829 - accuracy: 0.8789 - val_loss: 0.4110 - val_accuracy: 0.8785\n",
      "Epoch 97/120\n",
      "531/531 [==============================] - 1s 2ms/step - loss: 0.3848 - accuracy: 0.8792 - val_loss: 0.4091 - val_accuracy: 0.8761\n",
      "Epoch 98/120\n",
      "531/531 [==============================] - 1s 2ms/step - loss: 0.3844 - accuracy: 0.8786 - val_loss: 0.3986 - val_accuracy: 0.8813\n",
      "Epoch 99/120\n",
      "531/531 [==============================] - 2s 3ms/step - loss: 0.3831 - accuracy: 0.8781 - val_loss: 0.4021 - val_accuracy: 0.8766\n",
      "Epoch 100/120\n",
      "531/531 [==============================] - 2s 4ms/step - loss: 0.3833 - accuracy: 0.8762 - val_loss: 0.4053 - val_accuracy: 0.8818\n",
      "Epoch 101/120\n",
      "531/531 [==============================] - 1s 2ms/step - loss: 0.3819 - accuracy: 0.8800 - val_loss: 0.4001 - val_accuracy: 0.8780\n",
      "Epoch 102/120\n",
      "531/531 [==============================] - 2s 4ms/step - loss: 0.3838 - accuracy: 0.8780 - val_loss: 0.4023 - val_accuracy: 0.8789\n",
      "Epoch 103/120\n",
      "531/531 [==============================] - 2s 3ms/step - loss: 0.3829 - accuracy: 0.8780 - val_loss: 0.4061 - val_accuracy: 0.8780\n",
      "Epoch 104/120\n",
      "531/531 [==============================] - 1s 2ms/step - loss: 0.3800 - accuracy: 0.8797 - val_loss: 0.4028 - val_accuracy: 0.8789\n",
      "Epoch 105/120\n",
      "531/531 [==============================] - 1s 3ms/step - loss: 0.3799 - accuracy: 0.8813 - val_loss: 0.4049 - val_accuracy: 0.8794\n",
      "Epoch 106/120\n",
      "531/531 [==============================] - 1s 2ms/step - loss: 0.3807 - accuracy: 0.8791 - val_loss: 0.4057 - val_accuracy: 0.8799\n",
      "Epoch 107/120\n",
      "531/531 [==============================] - 1s 2ms/step - loss: 0.3786 - accuracy: 0.8799 - val_loss: 0.3993 - val_accuracy: 0.8794\n",
      "Epoch 108/120\n",
      "531/531 [==============================] - 1s 2ms/step - loss: 0.3797 - accuracy: 0.8799 - val_loss: 0.4156 - val_accuracy: 0.8747\n",
      "Epoch 109/120\n",
      "531/531 [==============================] - 1s 2ms/step - loss: 0.3793 - accuracy: 0.8795 - val_loss: 0.4042 - val_accuracy: 0.8785\n",
      "Epoch 110/120\n",
      "531/531 [==============================] - 1s 2ms/step - loss: 0.3769 - accuracy: 0.8811 - val_loss: 0.4061 - val_accuracy: 0.8761\n",
      "Epoch 111/120\n",
      "531/531 [==============================] - 1s 2ms/step - loss: 0.3763 - accuracy: 0.8794 - val_loss: 0.4056 - val_accuracy: 0.8747\n",
      "Epoch 112/120\n",
      "531/531 [==============================] - 1s 2ms/step - loss: 0.3781 - accuracy: 0.8806 - val_loss: 0.4091 - val_accuracy: 0.8756\n",
      "Epoch 113/120\n",
      "531/531 [==============================] - 1s 2ms/step - loss: 0.3778 - accuracy: 0.8801 - val_loss: 0.4042 - val_accuracy: 0.8804\n",
      "Epoch 114/120\n",
      "531/531 [==============================] - 1s 2ms/step - loss: 0.3756 - accuracy: 0.8809 - val_loss: 0.4009 - val_accuracy: 0.8794\n"
     ]
    },
    {
     "name": "stdout",
     "output_type": "stream",
     "text": [
      "Epoch 115/120\n",
      "531/531 [==============================] - 2s 3ms/step - loss: 0.3755 - accuracy: 0.8821 - val_loss: 0.3997 - val_accuracy: 0.8775\n",
      "Epoch 116/120\n",
      "531/531 [==============================] - 1s 3ms/step - loss: 0.3744 - accuracy: 0.8825 - val_loss: 0.3965 - val_accuracy: 0.8851\n",
      "Epoch 117/120\n",
      "531/531 [==============================] - 1s 2ms/step - loss: 0.3731 - accuracy: 0.8806 - val_loss: 0.4127 - val_accuracy: 0.8775\n",
      "Epoch 118/120\n",
      "531/531 [==============================] - 1s 2ms/step - loss: 0.3778 - accuracy: 0.8801 - val_loss: 0.4075 - val_accuracy: 0.8742\n",
      "Epoch 119/120\n",
      "531/531 [==============================] - 1s 2ms/step - loss: 0.3741 - accuracy: 0.8809 - val_loss: 0.4130 - val_accuracy: 0.8785\n",
      "Epoch 120/120\n",
      "531/531 [==============================] - 1s 2ms/step - loss: 0.3762 - accuracy: 0.8819 - val_loss: 0.3976 - val_accuracy: 0.8832\n"
     ]
    }
   ],
   "source": [
    "# Обучение модели\n",
    "history = model.fit(X_t_train, Y_train, validation_data = (X_t_test, Y_test), epochs = 120, batch_size = 16) #epochs = 120"
   ]
  },
  {
   "cell_type": "code",
   "execution_count": 64,
   "id": "7e6acd65",
   "metadata": {},
   "outputs": [
    {
     "name": "stdout",
     "output_type": "stream",
     "text": [
      "Model: \"sequential_6\"\n",
      "_________________________________________________________________\n",
      " Layer (type)                Output Shape              Param #   \n",
      "=================================================================\n",
      " dense_24 (Dense)            (None, 32)                448       \n",
      "                                                                 \n",
      " dense_25 (Dense)            (None, 16)                528       \n",
      "                                                                 \n",
      " dense_26 (Dense)            (None, 8)                 136       \n",
      "                                                                 \n",
      " dense_27 (Dense)            (None, 8)                 72        \n",
      "                                                                 \n",
      "=================================================================\n",
      "Total params: 1,184\n",
      "Trainable params: 1,184\n",
      "Non-trainable params: 0\n",
      "_________________________________________________________________\n"
     ]
    }
   ],
   "source": [
    "# Количество параметров моделив каждом слое\n",
    "model.summary()"
   ]
  },
  {
   "cell_type": "code",
   "execution_count": 67,
   "id": "4cc592b1",
   "metadata": {},
   "outputs": [
    {
     "data": {
      "image/png": "[encoded data removed]",
      "text/plain": [
       "<Figure size 1296x432 with 1 Axes>"
      ]
     },
     "metadata": {
      "needs_background": "light"
     },
     "output_type": "display_data"
    },
    {
     "data": {
      "image/png": "[encoded data removed]",
      "text/plain": [
       "<Figure size 1296x432 with 1 Axes>"
      ]
     },
     "metadata": {
      "needs_background": "light"
     },
     "output_type": "display_data"
    }
   ],
   "source": [
    "draw_curves(history, 'loss', 'accuracy')"
   ]
  },
  {
   "cell_type": "code",
   "execution_count": 68,
   "id": "7cd8a441",
   "metadata": {},
   "outputs": [
    {
     "name": "stdout",
     "output_type": "stream",
     "text": [
      "67/67 [==============================] - 0s 1ms/step\n"
     ]
    }
   ],
   "source": [
    "# Прогнозы модели\n",
    "predict = np.argmax(model.predict(X_t_test), axis=-1)"
   ]
  },
  {
   "cell_type": "code",
   "execution_count": 69,
   "id": "34d96129",
   "metadata": {},
   "outputs": [
    {
     "data": {
      "text/plain": [
       "array([[773,   1,   4,   0,   0,   0,   0,   0],\n",
       "       [  2, 347,   3,   4,   0,   0,   9,   0],\n",
       "       [  7,  14, 311,  11,  12,   1,   0,   0],\n",
       "       [  1,   1,   8, 298,   3,   3,   0,   0],\n",
       "       [  0,   0,   8,   4, 103,   2,   0,   0],\n",
       "       [  1,   5,  51,  12,  15,   3,   2,   0],\n",
       "       [  1,  35,   2,   2,   0,   0,  40,   0],\n",
       "       [  0,   7,   6,   8,   2,   0,   1,   0]], dtype=int64)"
      ]
     },
     "execution_count": 69,
     "metadata": {},
     "output_type": "execute_result"
    }
   ],
   "source": [
    "confusion_matrix(Y_test, predict)"
   ]
  },
  {
   "cell_type": "code",
   "execution_count": 70,
   "id": "4997b146",
   "metadata": {},
   "outputs": [
    {
     "data": {
      "text/plain": [
       "0.8831841733396137"
      ]
     },
     "execution_count": 70,
     "metadata": {},
     "output_type": "execute_result"
    }
   ],
   "source": [
    "f1_score(Y_test, predict, average = 'micro')"
   ]
  },
  {
   "cell_type": "code",
   "execution_count": 71,
   "id": "5b37ea6d",
   "metadata": {},
   "outputs": [],
   "source": [
    "# Сохранение модели\n",
    "model.save('neuron_net_clf.h5')"
   ]
  },
  {
   "cell_type": "code",
   "execution_count": null,
   "id": "4fc8bcd8",
   "metadata": {},
   "outputs": [],
   "source": []
  }
 ],
 "metadata": {
  "kernelspec": {
   "display_name": "Python 3 (ipykernel)",
   "language": "python",
   "name": "python3"
  },
  "language_info": {
   "codemirror_mode": {
    "name": "ipython",
    "version": 3
   },
   "file_extension": ".py",
   "mimetype": "text/x-python",
   "name": "python",
   "nbconvert_exporter": "python",
   "pygments_lexer": "ipython3",
   "version": "3.9.7"
  }
 },
 "nbformat": 4,
 "nbformat_minor": 5
}
