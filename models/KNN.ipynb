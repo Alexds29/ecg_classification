{
 "cells": [
  {
   "cell_type": "code",
   "execution_count": 1,
   "id": "151ced34",
   "metadata": {},
   "outputs": [],
   "source": [
    "# Добавляем каталог для поиска модулей (Здесь необходимо указать свой абсолютный путь к корневому каталогу)\n",
    "import sys\n",
    "#sys.path.append(jp.joinpath('C:\\\\Users\\\\Alex_DS\\\\Datascientist\\\\', 'ECG_new_forward'))\n",
    "sys.path.append('C:\\\\Users\\\\Alex_DS\\\\Datascientist\\\\ECG_new_forward')\n",
    "\n",
    "\n",
    "from sklearn.neighbors import KNeighborsClassifier\n",
    "import Pipes.fit_and_score as fit_score\n",
    "import Pipes.train_test_split_scaled as ttss\n",
    "import pickle"
   ]
  },
  {
   "cell_type": "markdown",
   "id": "1d8c0b33",
   "metadata": {},
   "source": [
    "## KNN"
   ]
  },
  {
   "cell_type": "code",
   "execution_count": 2,
   "id": "3d277b6b",
   "metadata": {},
   "outputs": [],
   "source": [
    "X_t_train, Y_train, X_t_test, Y_test = ttss.read_split()\n",
    "#X = pd.read_csv('X.csv', index_col = 'Unnamed: 0')\n",
    "#Y = pd.read_csv('Y.csv', index_col = 'Unnamed: 0')\n",
    "\n",
    "#X_train, X_test, Y_train, Y_test = train_test_split(X, Y, test_size = 0.2, random_state = 42, stratify = Y)"
   ]
  },
  {
   "cell_type": "code",
   "execution_count": 11,
   "id": "fd2df34c",
   "metadata": {},
   "outputs": [],
   "source": [
    "#sc = StandardScaler()\n",
    "\n",
    "#X_t_train = sc.fit_transform(X_train)\n",
    "#X_t_test = sc.transform(X_test)"
   ]
  },
  {
   "cell_type": "code",
   "execution_count": 3,
   "id": "fad83037",
   "metadata": {},
   "outputs": [],
   "source": [
    "knn = KNeighborsClassifier()"
   ]
  },
  {
   "cell_type": "code",
   "execution_count": 4,
   "id": "ff5b3619",
   "metadata": {},
   "outputs": [
    {
     "name": "stderr",
     "output_type": "stream",
     "text": [
      "C:\\Users\\Alex_DS\\anaconda3\\lib\\site-packages\\sklearn\\neighbors\\_classification.py:179: DataConversionWarning: A column-vector y was passed when a 1d array was expected. Please change the shape of y to (n_samples,), for example using ravel().\n",
      "  return self._fit(X, y)\n"
     ]
    },
    {
     "name": "stdout",
     "output_type": "stream",
     "text": [
      "Точность модели на тестовом множестве : 0.764\n",
      "Точность модели на тренировочном множестве: 0.823\n",
      "******************************\n",
      "Показатель модели f1: 0.764\n"
     ]
    },
    {
     "name": "stderr",
     "output_type": "stream",
     "text": [
      "C:\\Users\\Alex_DS\\anaconda3\\lib\\site-packages\\sklearn\\neighbors\\_classification.py:179: DataConversionWarning: A column-vector y was passed when a 1d array was expected. Please change the shape of y to (n_samples,), for example using ravel().\n",
      "  return self._fit(X, y)\n",
      "C:\\Users\\Alex_DS\\anaconda3\\lib\\site-packages\\sklearn\\neighbors\\_classification.py:179: DataConversionWarning: A column-vector y was passed when a 1d array was expected. Please change the shape of y to (n_samples,), for example using ravel().\n",
      "  return self._fit(X, y)\n",
      "C:\\Users\\Alex_DS\\anaconda3\\lib\\site-packages\\sklearn\\neighbors\\_classification.py:179: DataConversionWarning: A column-vector y was passed when a 1d array was expected. Please change the shape of y to (n_samples,), for example using ravel().\n",
      "  return self._fit(X, y)\n",
      "C:\\Users\\Alex_DS\\anaconda3\\lib\\site-packages\\sklearn\\neighbors\\_classification.py:179: DataConversionWarning: A column-vector y was passed when a 1d array was expected. Please change the shape of y to (n_samples,), for example using ravel().\n",
      "  return self._fit(X, y)\n",
      "C:\\Users\\Alex_DS\\anaconda3\\lib\\site-packages\\sklearn\\neighbors\\_classification.py:179: DataConversionWarning: A column-vector y was passed when a 1d array was expected. Please change the shape of y to (n_samples,), for example using ravel().\n",
      "  return self._fit(X, y)\n"
     ]
    },
    {
     "name": "stdout",
     "output_type": "stream",
     "text": [
      "Показатель точности после кроссвалидации: 0.759\n"
     ]
    }
   ],
   "source": [
    "fit_score.fit_and_score_model(knn, X_t_train, Y_train, X_t_test, Y_test)"
   ]
  },
  {
   "cell_type": "markdown",
   "id": "f3780e54",
   "metadata": {},
   "source": [
    "## Сохраняем полученную модель"
   ]
  },
  {
   "cell_type": "code",
   "execution_count": 5,
   "id": "94db2298",
   "metadata": {},
   "outputs": [],
   "source": [
    "mod_name = 'knn.pkl'\n",
    "with open(mod_name , 'wb') as f:\n",
    "    pickle.dump(knn, f)"
   ]
  },
  {
   "cell_type": "code",
   "execution_count": null,
   "id": "b0622c9d",
   "metadata": {},
   "outputs": [],
   "source": []
  }
 ],
 "metadata": {
  "kernelspec": {
   "display_name": "Python 3 (ipykernel)",
   "language": "python",
   "name": "python3"
  },
  "language_info": {
   "codemirror_mode": {
    "name": "ipython",
    "version": 3
   },
   "file_extension": ".py",
   "mimetype": "text/x-python",
   "name": "python",
   "nbconvert_exporter": "python",
   "pygments_lexer": "ipython3",
   "version": "3.9.7"
  }
 },
 "nbformat": 4,
 "nbformat_minor": 5
}
