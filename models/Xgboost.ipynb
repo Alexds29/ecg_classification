{
 "cells": [
  {
   "cell_type": "code",
   "execution_count": 2,
   "id": "dc0a77d5",
   "metadata": {},
   "outputs": [],
   "source": [
    "# Добавляем каталог для поиска модулей (Здесь необходимо указать свой абсолютный путь к корневому каталогу)\n",
    "import sys\n",
    "#sys.path.append(jp.joinpath('C:\\\\Users\\\\Alex_DS\\\\Datascientist\\\\', 'ECG_new_forward'))\n",
    "sys.path.append('C:\\\\Users\\\\Alex_DS\\\\Datascientist\\\\ECG_new_forward')\n",
    "\n",
    "from xgboost import XGBClassifier\n",
    "import Pipes.fit_and_score as fit_score\n",
    "import Pipes.train_test_split as tts\n",
    "import pickle"
   ]
  },
  {
   "cell_type": "code",
   "execution_count": 1,
   "id": "79de8227",
   "metadata": {},
   "outputs": [],
   "source": []
  },
  {
   "cell_type": "markdown",
   "id": "cb66fc0e",
   "metadata": {},
   "source": [
    "## Дерево решений"
   ]
  },
  {
   "cell_type": "code",
   "execution_count": 3,
   "id": "66ce5dcc",
   "metadata": {},
   "outputs": [],
   "source": [
    "X_train, Y_train, X_test, Y_test = tts.read_split()\n",
    "#X = pd.read_csv('X.csv', index_col = 'Unnamed: 0')\n",
    "#Y = pd.read_csv('Y.csv', index_col = 'Unnamed: 0')\n",
    "\n",
    "#X_train, X_test, Y_train, Y_test = train_test_split(X, Y, test_size = 0.2, random_state = 42, stratify = Y)"
   ]
  },
  {
   "cell_type": "code",
   "execution_count": 5,
   "id": "1f60acd5",
   "metadata": {},
   "outputs": [],
   "source": [
    "xgb = XGBClassifier()"
   ]
  },
  {
   "cell_type": "code",
   "execution_count": 6,
   "id": "48a05a40",
   "metadata": {},
   "outputs": [
    {
     "name": "stdout",
     "output_type": "stream",
     "text": [
      "Точность модели на тестовом множестве : 0.874\n",
      "Точность модели на тренировочном множестве: 0.999\n",
      "******************************\n",
      "Показатель модели f1: 0.874\n",
      "Показатель точности после кроссвалидации: 0.857\n"
     ]
    }
   ],
   "source": [
    "fit_score.fit_and_score_model(xgb, X_train, Y_train, X_test, Y_test)"
   ]
  },
  {
   "cell_type": "markdown",
   "id": "aca63a74",
   "metadata": {},
   "source": [
    "## Сохраняем полученную модель"
   ]
  },
  {
   "cell_type": "code",
   "execution_count": 7,
   "id": "ab2e133d",
   "metadata": {},
   "outputs": [],
   "source": [
    "mod_name = 'xgboost.pkl'\n",
    "with open(mod_name , 'wb') as f:\n",
    "    pickle.dump(xgb, f)"
   ]
  },
  {
   "cell_type": "code",
   "execution_count": null,
   "id": "27a764ab",
   "metadata": {},
   "outputs": [],
   "source": []
  }
 ],
 "metadata": {
  "kernelspec": {
   "display_name": "Python 3 (ipykernel)",
   "language": "python",
   "name": "python3"
  },
  "language_info": {
   "codemirror_mode": {
    "name": "ipython",
    "version": 3
   },
   "file_extension": ".py",
   "mimetype": "text/x-python",
   "name": "python",
   "nbconvert_exporter": "python",
   "pygments_lexer": "ipython3",
   "version": "3.9.7"
  }
 },
 "nbformat": 4,
 "nbformat_minor": 5
}
